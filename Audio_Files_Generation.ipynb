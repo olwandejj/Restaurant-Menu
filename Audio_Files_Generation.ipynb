{
  "nbformat": 4,
  "nbformat_minor": 0,
  "metadata": {
    "colab": {
      "provenance": []
    },
    "kernelspec": {
      "name": "python3",
      "display_name": "Python 3"
    },
    "language_info": {
      "name": "python"
    }
  },
  "cells": [
    {
      "cell_type": "code",
      "execution_count": 1,
      "metadata": {
        "colab": {
          "base_uri": "https://localhost:8080/",
          "height": 332
        },
        "id": "KhSvd_oTUxv6",
        "outputId": "fcf359cd-e972-4c2f-8ba7-b601511b2216"
      },
      "outputs": [
        {
          "output_type": "error",
          "ename": "ModuleNotFoundError",
          "evalue": "No module named 'gtts'",
          "traceback": [
            "\u001b[0;31m---------------------------------------------------------------------------\u001b[0m",
            "\u001b[0;31mModuleNotFoundError\u001b[0m                       Traceback (most recent call last)",
            "\u001b[0;32m/tmp/ipython-input-3171972041.py\u001b[0m in \u001b[0;36m<cell line: 0>\u001b[0;34m()\u001b[0m\n\u001b[0;32m----> 1\u001b[0;31m \u001b[0;32mfrom\u001b[0m \u001b[0mgtts\u001b[0m \u001b[0;32mimport\u001b[0m \u001b[0mgTTS\u001b[0m\u001b[0;34m\u001b[0m\u001b[0;34m\u001b[0m\u001b[0m\n\u001b[0m\u001b[1;32m      2\u001b[0m \u001b[0;32mimport\u001b[0m \u001b[0mos\u001b[0m\u001b[0;34m\u001b[0m\u001b[0;34m\u001b[0m\u001b[0m\n",
            "\u001b[0;31mModuleNotFoundError\u001b[0m: No module named 'gtts'",
            "",
            "\u001b[0;31m---------------------------------------------------------------------------\u001b[0;32m\nNOTE: If your import is failing due to a missing package, you can\nmanually install dependencies using either !pip or !apt.\n\nTo view examples of installing some common dependencies, click the\n\"Open Examples\" button below.\n\u001b[0;31m---------------------------------------------------------------------------\u001b[0m\n"
          ],
          "errorDetails": {
            "actions": [
              {
                "action": "open_url",
                "actionText": "Open Examples",
                "url": "/notebooks/snippets/importing_libraries.ipynb"
              }
            ]
          }
        }
      ],
      "source": [
        "from gtts import gTTS\n",
        "import os"
      ]
    },
    {
      "cell_type": "code",
      "metadata": {
        "colab": {
          "base_uri": "https://localhost:8080/"
        },
        "id": "a0aed97c",
        "outputId": "02c4760c-cf84-4271-dece-8d5b0515630f"
      },
      "source": [
        "!pip install gtts"
      ],
      "execution_count": 2,
      "outputs": [
        {
          "output_type": "stream",
          "name": "stdout",
          "text": [
            "Collecting gtts\n",
            "  Downloading gTTS-2.5.4-py3-none-any.whl.metadata (4.1 kB)\n",
            "Requirement already satisfied: requests<3,>=2.27 in /usr/local/lib/python3.11/dist-packages (from gtts) (2.32.3)\n",
            "Collecting click<8.2,>=7.1 (from gtts)\n",
            "  Downloading click-8.1.8-py3-none-any.whl.metadata (2.3 kB)\n",
            "Requirement already satisfied: charset-normalizer<4,>=2 in /usr/local/lib/python3.11/dist-packages (from requests<3,>=2.27->gtts) (3.4.2)\n",
            "Requirement already satisfied: idna<4,>=2.5 in /usr/local/lib/python3.11/dist-packages (from requests<3,>=2.27->gtts) (3.10)\n",
            "Requirement already satisfied: urllib3<3,>=1.21.1 in /usr/local/lib/python3.11/dist-packages (from requests<3,>=2.27->gtts) (2.5.0)\n",
            "Requirement already satisfied: certifi>=2017.4.17 in /usr/local/lib/python3.11/dist-packages (from requests<3,>=2.27->gtts) (2025.8.3)\n",
            "Downloading gTTS-2.5.4-py3-none-any.whl (29 kB)\n",
            "Downloading click-8.1.8-py3-none-any.whl (98 kB)\n",
            "\u001b[2K   \u001b[90m━━━━━━━━━━━━━━━━━━━━━━━━━━━━━━━━━━━━━━━━\u001b[0m \u001b[32m98.2/98.2 kB\u001b[0m \u001b[31m3.5 MB/s\u001b[0m eta \u001b[36m0:00:00\u001b[0m\n",
            "\u001b[?25hInstalling collected packages: click, gtts\n",
            "  Attempting uninstall: click\n",
            "    Found existing installation: click 8.2.1\n",
            "    Uninstalling click-8.2.1:\n",
            "      Successfully uninstalled click-8.2.1\n",
            "Successfully installed click-8.1.8 gtts-2.5.4\n"
          ]
        }
      ]
    },
    {
      "cell_type": "code",
      "metadata": {
        "id": "18ec2d87"
      },
      "source": [
        "from gtts import gTTS\n",
        "import os"
      ],
      "execution_count": 3,
      "outputs": []
    },
    {
      "cell_type": "code",
      "source": [
        "# List of dish descriptions\n",
        "descriptions = [\n",
        "    \"Garden Salad: A fresh garden salad with crisp vegetables and a tangy vinaigrette dressing.\",\n",
        "    \"Spring Rolls: Crispy vegetable spring rolls, stuffed with a mix of fresh veggies and served hot.\",\n",
        "    \"Buffalo Wings: Spicy buffalo chicken wings, fried to perfection and served with creamy ranch dip.\",\n",
        "    \"Caprese Salad: Sliced tomatoes, fresh basil, and mozzarella cheese, finished with a balsamic glaze.\",\n",
        "    \"Mushroom Soup: A hot, creamy soup made with earthy mushrooms and delicate herbs.\",\n",
        "    \"Garlic Bread: Warm, baked garlic bread topped with melted cheese and herbs.\",\n",
        "    \"Shrimp Cocktail: Chilled shrimp served with a zesty lemon sauce for a classic seafood appetizer.\",\n",
        "    \"Sauteed Mushrooms: Mushrooms sautéed in garlic butter, aromatic and delicious.\",\n",
        "    \"Classic Burger: A juicy beef patty in a toasted bun, served with crispy fries.\",\n",
        "    \"Italian Pizza: Stone-baked Italian pizza topped with mozzarella cheese and fresh tomato sauce.\",\n",
        "    \"Grilled Chicken: Tender grilled chicken breast served with creamy mashed potatoes.\",\n",
        "    \"Alfredo Pasta: Pasta tossed in a rich and creamy Alfredo sauce, garnished with cheese.\",\n",
        "    \"Beef Tacos: Spicy beef tacos filled with salsa and fresh vegetables, wrapped in soft tortillas.\",\n",
        "    \"Chicken Noodles: Stir-fried noodles with vegetables and tender chicken, seasoned with Asian spices.\",\n",
        "    \"Grilled Salmon: Pan-fried salmon fillet with a tangy lemon butter sauce.\",\n",
        "    \"Vegetable Curry: A hearty vegetarian curry served with steamed rice, full of spices and flavor.\",\n",
        "    \"Chocolate Cake: Rich chocolate cake layered with fudge icing, perfect for chocolate lovers.\",\n",
        "    \"Vanilla Ice Cream: Creamy vanilla ice cream topped with sweet caramel drizzle.\",\n",
        "    \"Berry Cheesecake: Mini cheesecakes topped with a mix of fresh berries for a sweet and tangy treat.\",\n",
        "    \"Apple Pie: Warm apple pie filled with cinnamon-spiced apples in a flaky crust.\",\n",
        "    \"Molten Lava Cake: Chocolate lava cake with a warm, gooey molten center.\",\n",
        "    \"Fruit Parfait: Layers of yogurt, granola, and fresh fruit for a healthy and sweet dessert.\",\n",
        "    \"Churros: Crispy churros coated in cinnamon sugar, served with chocolate dipping sauce.\",\n",
        "    \"Strawberry Shortcake: Light strawberry shortcake topped with whipped cream and fresh strawberries.\"\n",
        "]\n",
        "\n",
        "output_dir = \"dish_audios\"\n",
        "os.makedirs(output_dir, exist_ok=True)\n",
        "\n",
        "for i, desc in enumerate(descriptions, start=1):\n",
        "    filename = f\"{i:02d}_{desc.split(':')[0].replace(' ', '_')}.mp3\"\n",
        "    filepath = os.path.join(output_dir, filename)\n",
        "    tts = gTTS(text=desc, lang='en', tld='co.uk', slow=False)\n",
        "    tts.save(filepath)\n",
        "    print(f\"Saved: {filepath}\")"
      ],
      "metadata": {
        "colab": {
          "base_uri": "https://localhost:8080/"
        },
        "id": "fztag_N5VPPI",
        "outputId": "d90c95a0-73db-414c-a524-77ecc240eb49"
      },
      "execution_count": 4,
      "outputs": [
        {
          "output_type": "stream",
          "name": "stdout",
          "text": [
            "Saved: dish_audios/01_Garden_Salad.mp3\n",
            "Saved: dish_audios/02_Spring_Rolls.mp3\n",
            "Saved: dish_audios/03_Buffalo_Wings.mp3\n",
            "Saved: dish_audios/04_Caprese_Salad.mp3\n",
            "Saved: dish_audios/05_Mushroom_Soup.mp3\n",
            "Saved: dish_audios/06_Garlic_Bread.mp3\n",
            "Saved: dish_audios/07_Shrimp_Cocktail.mp3\n",
            "Saved: dish_audios/08_Sauteed_Mushrooms.mp3\n",
            "Saved: dish_audios/09_Classic_Burger.mp3\n",
            "Saved: dish_audios/10_Italian_Pizza.mp3\n",
            "Saved: dish_audios/11_Grilled_Chicken.mp3\n",
            "Saved: dish_audios/12_Alfredo_Pasta.mp3\n",
            "Saved: dish_audios/13_Beef_Tacos.mp3\n",
            "Saved: dish_audios/14_Chicken_Noodles.mp3\n",
            "Saved: dish_audios/15_Grilled_Salmon.mp3\n",
            "Saved: dish_audios/16_Vegetable_Curry.mp3\n",
            "Saved: dish_audios/17_Chocolate_Cake.mp3\n",
            "Saved: dish_audios/18_Vanilla_Ice_Cream.mp3\n",
            "Saved: dish_audios/19_Berry_Cheesecake.mp3\n",
            "Saved: dish_audios/20_Apple_Pie.mp3\n",
            "Saved: dish_audios/21_Molten_Lava_Cake.mp3\n",
            "Saved: dish_audios/22_Fruit_Parfait.mp3\n",
            "Saved: dish_audios/23_Churros.mp3\n",
            "Saved: dish_audios/24_Strawberry_Shortcake.mp3\n"
          ]
        }
      ]
    },
    {
      "cell_type": "code",
      "source": [
        "# Compress all MP3 files into a zip archive\n",
        "!zip -r dish_audios.zip dish_audios"
      ],
      "metadata": {
        "colab": {
          "base_uri": "https://localhost:8080/"
        },
        "id": "tU_ap1reV8ML",
        "outputId": "cc7e3fdc-3162-4dfb-ad28-53dc1040be82"
      },
      "execution_count": 5,
      "outputs": [
        {
          "output_type": "stream",
          "name": "stdout",
          "text": [
            "  adding: dish_audios/ (stored 0%)\n",
            "  adding: dish_audios/06_Garlic_Bread.mp3 (deflated 2%)\n",
            "  adding: dish_audios/11_Grilled_Chicken.mp3 (deflated 2%)\n",
            "  adding: dish_audios/22_Fruit_Parfait.mp3 (deflated 2%)\n",
            "  adding: dish_audios/10_Italian_Pizza.mp3 (deflated 2%)\n",
            "  adding: dish_audios/16_Vegetable_Curry.mp3 (deflated 2%)\n",
            "  adding: dish_audios/13_Beef_Tacos.mp3 (deflated 2%)\n",
            "  adding: dish_audios/21_Molten_Lava_Cake.mp3 (deflated 2%)\n",
            "  adding: dish_audios/08_Sauteed_Mushrooms.mp3 (deflated 2%)\n",
            "  adding: dish_audios/05_Mushroom_Soup.mp3 (deflated 2%)\n",
            "  adding: dish_audios/14_Chicken_Noodles.mp3 (deflated 2%)\n",
            "  adding: dish_audios/03_Buffalo_Wings.mp3 (deflated 2%)\n",
            "  adding: dish_audios/17_Chocolate_Cake.mp3 (deflated 2%)\n",
            "  adding: dish_audios/20_Apple_Pie.mp3 (deflated 2%)\n",
            "  adding: dish_audios/15_Grilled_Salmon.mp3 (deflated 2%)\n",
            "  adding: dish_audios/04_Caprese_Salad.mp3 (deflated 2%)\n",
            "  adding: dish_audios/07_Shrimp_Cocktail.mp3 (deflated 2%)\n",
            "  adding: dish_audios/18_Vanilla_Ice_Cream.mp3 (deflated 2%)\n",
            "  adding: dish_audios/02_Spring_Rolls.mp3 (deflated 2%)\n",
            "  adding: dish_audios/19_Berry_Cheesecake.mp3 (deflated 2%)\n",
            "  adding: dish_audios/12_Alfredo_Pasta.mp3 (deflated 2%)\n",
            "  adding: dish_audios/09_Classic_Burger.mp3 (deflated 2%)\n",
            "  adding: dish_audios/24_Strawberry_Shortcake.mp3 (deflated 2%)\n",
            "  adding: dish_audios/23_Churros.mp3 (deflated 2%)\n",
            "  adding: dish_audios/01_Garden_Salad.mp3 (deflated 2%)\n"
          ]
        }
      ]
    },
    {
      "cell_type": "code",
      "source": [
        "# Download the zip file\n",
        "files.download(\"dish_audios.zip\")"
      ],
      "metadata": {
        "colab": {
          "base_uri": "https://localhost:8080/",
          "height": 158
        },
        "id": "wcDtiHnZWBiy",
        "outputId": "24ff77e0-b606-4dc6-e616-794b190c2298"
      },
      "execution_count": 6,
      "outputs": [
        {
          "output_type": "error",
          "ename": "NameError",
          "evalue": "name 'files' is not defined",
          "traceback": [
            "\u001b[0;31m---------------------------------------------------------------------------\u001b[0m",
            "\u001b[0;31mNameError\u001b[0m                                 Traceback (most recent call last)",
            "\u001b[0;32m/tmp/ipython-input-2276635756.py\u001b[0m in \u001b[0;36m<cell line: 0>\u001b[0;34m()\u001b[0m\n\u001b[1;32m      1\u001b[0m \u001b[0;31m# Download the zip file\u001b[0m\u001b[0;34m\u001b[0m\u001b[0;34m\u001b[0m\u001b[0m\n\u001b[0;32m----> 2\u001b[0;31m \u001b[0mfiles\u001b[0m\u001b[0;34m.\u001b[0m\u001b[0mdownload\u001b[0m\u001b[0;34m(\u001b[0m\u001b[0;34m\"dish_audios.zip\"\u001b[0m\u001b[0;34m)\u001b[0m\u001b[0;34m\u001b[0m\u001b[0;34m\u001b[0m\u001b[0m\n\u001b[0m",
            "\u001b[0;31mNameError\u001b[0m: name 'files' is not defined"
          ]
        }
      ]
    },
    {
      "cell_type": "code",
      "metadata": {
        "id": "2b14c0b6"
      },
      "source": [
        "from google.colab import files"
      ],
      "execution_count": 7,
      "outputs": []
    },
    {
      "cell_type": "code",
      "metadata": {
        "colab": {
          "base_uri": "https://localhost:8080/",
          "height": 17
        },
        "id": "08b06246",
        "outputId": "c79a8052-77bf-4266-cb19-4d956cf04cdb"
      },
      "source": [
        "# Download the zip file\n",
        "files.download(\"dish_audios.zip\")"
      ],
      "execution_count": 8,
      "outputs": [
        {
          "output_type": "display_data",
          "data": {
            "text/plain": [
              "<IPython.core.display.Javascript object>"
            ],
            "application/javascript": [
              "\n",
              "    async function download(id, filename, size) {\n",
              "      if (!google.colab.kernel.accessAllowed) {\n",
              "        return;\n",
              "      }\n",
              "      const div = document.createElement('div');\n",
              "      const label = document.createElement('label');\n",
              "      label.textContent = `Downloading \"${filename}\": `;\n",
              "      div.appendChild(label);\n",
              "      const progress = document.createElement('progress');\n",
              "      progress.max = size;\n",
              "      div.appendChild(progress);\n",
              "      document.body.appendChild(div);\n",
              "\n",
              "      const buffers = [];\n",
              "      let downloaded = 0;\n",
              "\n",
              "      const channel = await google.colab.kernel.comms.open(id);\n",
              "      // Send a message to notify the kernel that we're ready.\n",
              "      channel.send({})\n",
              "\n",
              "      for await (const message of channel.messages) {\n",
              "        // Send a message to notify the kernel that we're ready.\n",
              "        channel.send({})\n",
              "        if (message.buffers) {\n",
              "          for (const buffer of message.buffers) {\n",
              "            buffers.push(buffer);\n",
              "            downloaded += buffer.byteLength;\n",
              "            progress.value = downloaded;\n",
              "          }\n",
              "        }\n",
              "      }\n",
              "      const blob = new Blob(buffers, {type: 'application/binary'});\n",
              "      const a = document.createElement('a');\n",
              "      a.href = window.URL.createObjectURL(blob);\n",
              "      a.download = filename;\n",
              "      div.appendChild(a);\n",
              "      a.click();\n",
              "      div.remove();\n",
              "    }\n",
              "  "
            ]
          },
          "metadata": {}
        },
        {
          "output_type": "display_data",
          "data": {
            "text/plain": [
              "<IPython.core.display.Javascript object>"
            ],
            "application/javascript": [
              "download(\"download_085fa857-f06a-4d86-be40-a161ba0bf58c\", \"dish_audios.zip\", 1304923)"
            ]
          },
          "metadata": {}
        }
      ]
    }
  ]
}